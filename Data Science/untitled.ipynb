{
 "cells": [
  {
   "cell_type": "code",
   "execution_count": 12,
   "metadata": {},
   "outputs": [],
   "source": [
    "# Imports\n",
    "import pandas as pd\n",
    "import math"
   ]
  },
  {
   "cell_type": "markdown",
   "metadata": {},
   "source": [
    "## Question 1\n",
    "**A portfolio contains 51 stocks whose prices are given\n",
    "below:** \n",
    "\n",
    "67 34 36 48 49 31 61 34 43 45 38 32 27 61 29 47 36 50 46 30 40 32 \\\n",
    "30 33 45 49 48 41 53 36 37 47 47 30 50 28 35 35 38 36 46 43 34 62 \\\n",
    "69 50 28 44 43 60 39 \n",
    "\n",
    "**Summarize these stock prices in the form of a frequency\n",
    "distribution.**"
   ]
  },
  {
   "cell_type": "code",
   "execution_count": 6,
   "metadata": {},
   "outputs": [],
   "source": [
    "data = [67,34,36,48,49,31,61,34,43,45,38,32,27,61,29,47,36,50,46,30,40,32,30,33,45,49,48,41,53,36,37,47,47,30,50,28,35,35,38,36,46,43,34,62,69,50,28,44,43,60]"
   ]
  },
  {
   "cell_type": "code",
   "execution_count": 11,
   "metadata": {},
   "outputs": [
    {
     "data": {
      "text/plain": [
       "50"
      ]
     },
     "execution_count": 11,
     "metadata": {},
     "output_type": "execute_result"
    }
   ],
   "source": [
    "series = pd.Series(data)\n",
    "series.size"
   ]
  },
  {
   "cell_type": "code",
   "execution_count": 69,
   "metadata": {},
   "outputs": [],
   "source": [
    "def create_distribution(series):\n",
    "    classes = 0\n",
    "    frame = series.value_counts().to_frame()\n",
    "    for i in range(1 , 100):\n",
    "        if(1 << i >= series.size):\n",
    "            classes = i\n",
    "            break\n",
    "    \n",
    "    _min = series.min()\n",
    "    _max = series.max()\n",
    "    interval = int((_max - _min)/classes)\n",
    "\n",
    "    interval_list = list()\n",
    "    indices = list()\n",
    "    for i in range(classes):\n",
    "        upper = _min+interval\n",
    "        _sum =frame.iloc[(frame.index >= _min) & (frame.index < upper)].sum()[0]\n",
    "        idx = str(_min) + '-' + str(upper)\n",
    "        _min= upper\n",
    "        interval_list.append(_sum)\n",
    "        indices.append(idx)\n",
    "\n",
    "    return pd.DataFrame(interval_list , index=indices , columns=['Freq'])\n"
   ]
  },
  {
   "cell_type": "code",
   "execution_count": 70,
   "metadata": {},
   "outputs": [],
   "source": [
    "df = create_distribution(series)"
   ]
  },
  {
   "cell_type": "markdown",
   "metadata": {},
   "source": [
    "## Question 2\n",
    "**Construct a frequency distribution of the data given\n",
    "below, where class interval is 4 and the mid-value of one\n",
    "of the classes is zero.**\n",
    "\n",
    "–8 –7 10 12 6 4 3 0 7\n",
    "–4 –3 –2 2 3 4 7 5 6\n",
    "10 12 9 13 11 – 10 –7 1 0\n",
    "5 3 2 6 10 -6 –4"
   ]
  },
  {
   "cell_type": "code",
   "execution_count": 83,
   "metadata": {},
   "outputs": [],
   "source": [
    "data = [-8,-7,10,12,6,4,3,0,7,-4,-3,-2,2,3,4,7,5,6,10,12,9,13,11,-10,-7,1,0,5,3,2,6,10,-6,-4]"
   ]
  },
  {
   "cell_type": "code",
   "execution_count": 85,
   "metadata": {},
   "outputs": [],
   "source": [
    "df2 = create_distribution(pd.Series(data))"
   ]
  },
  {
   "cell_type": "code",
   "execution_count": 86,
   "metadata": {},
   "outputs": [
    {
     "data": {
      "text/html": [
       "<div>\n",
       "<style scoped>\n",
       "    .dataframe tbody tr th:only-of-type {\n",
       "        vertical-align: middle;\n",
       "    }\n",
       "\n",
       "    .dataframe tbody tr th {\n",
       "        vertical-align: top;\n",
       "    }\n",
       "\n",
       "    .dataframe thead th {\n",
       "        text-align: right;\n",
       "    }\n",
       "</style>\n",
       "<table border=\"1\" class=\"dataframe\">\n",
       "  <thead>\n",
       "    <tr style=\"text-align: right;\">\n",
       "      <th></th>\n",
       "      <th>Freq</th>\n",
       "    </tr>\n",
       "  </thead>\n",
       "  <tbody>\n",
       "    <tr>\n",
       "      <th>-10--7</th>\n",
       "      <td>2</td>\n",
       "    </tr>\n",
       "    <tr>\n",
       "      <th>-7--4</th>\n",
       "      <td>3</td>\n",
       "    </tr>\n",
       "    <tr>\n",
       "      <th>-4--1</th>\n",
       "      <td>4</td>\n",
       "    </tr>\n",
       "    <tr>\n",
       "      <th>-1-2</th>\n",
       "      <td>3</td>\n",
       "    </tr>\n",
       "    <tr>\n",
       "      <th>2-5</th>\n",
       "      <td>7</td>\n",
       "    </tr>\n",
       "    <tr>\n",
       "      <th>5-8</th>\n",
       "      <td>7</td>\n",
       "    </tr>\n",
       "  </tbody>\n",
       "</table>\n",
       "</div>"
      ],
      "text/plain": [
       "        Freq\n",
       "-10--7     2\n",
       "-7--4      3\n",
       "-4--1      4\n",
       "-1-2       3\n",
       "2-5        7\n",
       "5-8        7"
      ]
     },
     "execution_count": 86,
     "metadata": {},
     "output_type": "execute_result"
    }
   ],
   "source": [
    "df2"
   ]
  },
  {
   "cell_type": "markdown",
   "metadata": {},
   "source": [
    "## Question 3\n",
    "**Form a frequency distribution of the following data.\n",
    "Use an equal class interval of 4 where the lower limit of\n",
    "the first class is 10.**\n",
    "\n",
    "10 17 15 22 11 16 19 24 29\\\n",
    "18 25 26 32 14 17 20 23 27\\\n",
    "30 12 15 18 24 36 18 15 21\\\n",
    "28 33 38 34 13 10 16 20 22\\\n",
    "29 29 23 31"
   ]
  },
  {
   "cell_type": "code",
   "execution_count": 90,
   "metadata": {},
   "outputs": [],
   "source": [
    "data = [10,17,15,22,11,16,19,24,29,18,25,26,32,14,17,20,23,27,30,12,15,18,24,36,18,15,21,28,33,38,34,13,10,16,20,22,29,29,23,31]"
   ]
  },
  {
   "cell_type": "code",
   "execution_count": 91,
   "metadata": {},
   "outputs": [],
   "source": [
    "df3 = create_distribution(pd.Series(data))"
   ]
  },
  {
   "cell_type": "code",
   "execution_count": 92,
   "metadata": {},
   "outputs": [
    {
     "data": {
      "text/html": [
       "<div>\n",
       "<style scoped>\n",
       "    .dataframe tbody tr th:only-of-type {\n",
       "        vertical-align: middle;\n",
       "    }\n",
       "\n",
       "    .dataframe tbody tr th {\n",
       "        vertical-align: top;\n",
       "    }\n",
       "\n",
       "    .dataframe thead th {\n",
       "        text-align: right;\n",
       "    }\n",
       "</style>\n",
       "<table border=\"1\" class=\"dataframe\">\n",
       "  <thead>\n",
       "    <tr style=\"text-align: right;\">\n",
       "      <th></th>\n",
       "      <th>Freq</th>\n",
       "    </tr>\n",
       "  </thead>\n",
       "  <tbody>\n",
       "    <tr>\n",
       "      <th>10-14</th>\n",
       "      <td>5</td>\n",
       "    </tr>\n",
       "    <tr>\n",
       "      <th>14-18</th>\n",
       "      <td>8</td>\n",
       "    </tr>\n",
       "    <tr>\n",
       "      <th>18-22</th>\n",
       "      <td>7</td>\n",
       "    </tr>\n",
       "    <tr>\n",
       "      <th>22-26</th>\n",
       "      <td>7</td>\n",
       "    </tr>\n",
       "    <tr>\n",
       "      <th>26-30</th>\n",
       "      <td>6</td>\n",
       "    </tr>\n",
       "    <tr>\n",
       "      <th>30-34</th>\n",
       "      <td>4</td>\n",
       "    </tr>\n",
       "  </tbody>\n",
       "</table>\n",
       "</div>"
      ],
      "text/plain": [
       "       Freq\n",
       "10-14     5\n",
       "14-18     8\n",
       "18-22     7\n",
       "22-26     7\n",
       "26-30     6\n",
       "30-34     4"
      ]
     },
     "execution_count": 92,
     "metadata": {},
     "output_type": "execute_result"
    }
   ],
   "source": [
    "df3"
   ]
  },
  {
   "cell_type": "markdown",
   "metadata": {},
   "source": [
    "## Question 4\n",
    "The distribution of ages of 500 readers of a nationally\n",
    "distributed magazine is given below:\n",
    "|Age (in Years)|Number of Readers |\n",
    "|----|-----|\n",
    "|Below 14 |20|\n",
    "|15–19 |125|\n",
    "|20–24 |25|\n",
    "|25–29 |35|\n",
    "|30–34 |80|\n",
    "|35–39 |140|\n",
    "|40–44 |30|\n",
    "|45 and above| 45|\n",
    "\n",
    "Find the relative and cumulative frequency distributions\n",
    "for this distribution."
   ]
  },
  {
   "cell_type": "code",
   "execution_count": 93,
   "metadata": {},
   "outputs": [],
   "source": [
    "data = {\"Age\" : ['Below 14' , '15-19' , '20-24' , '25-29' ,'30-34' , '35-39' , '40-44' , '45 and above'] , \n",
    "        \"Number of Readers\": [20 , 125 , 25 , 35 , 80 , 140 , 30 , 45]}"
   ]
  },
  {
   "cell_type": "code",
   "execution_count": 94,
   "metadata": {},
   "outputs": [],
   "source": [
    "df4= pd.DataFrame(data).set_index(\"Age\")"
   ]
  },
  {
   "cell_type": "code",
   "execution_count": 98,
   "metadata": {},
   "outputs": [
    {
     "data": {
      "text/plain": [
       "Age\n",
       "Below 14         20\n",
       "15-19           145\n",
       "20-24           170\n",
       "25-29           205\n",
       "30-34           285\n",
       "35-39           425\n",
       "40-44           455\n",
       "45 and above    500\n",
       "Name: Number of Readers, dtype: int64"
      ]
     },
     "execution_count": 98,
     "metadata": {},
     "output_type": "execute_result"
    }
   ],
   "source": [
    "df4[\"Cumulative Freq\"] = df4[\"Number of Readers\"].cumsum()\n",
    "df4[]"
   ]
  },
  {
   "cell_type": "code",
   "execution_count": null,
   "metadata": {},
   "outputs": [],
   "source": []
  }
 ],
 "metadata": {
  "interpreter": {
   "hash": "31f2aee4e71d21fbe5cf8b01ff0e069b9275f58929596ceb00d14d90e3e16cd6"
  },
  "kernelspec": {
   "display_name": "Python 3.8.10 64-bit",
   "language": "python",
   "name": "python3"
  },
  "language_info": {
   "codemirror_mode": {
    "name": "ipython",
    "version": 3
   },
   "file_extension": ".py",
   "mimetype": "text/x-python",
   "name": "python",
   "nbconvert_exporter": "python",
   "pygments_lexer": "ipython3",
   "version": "3.8.10"
  },
  "orig_nbformat": 4
 },
 "nbformat": 4,
 "nbformat_minor": 2
}
